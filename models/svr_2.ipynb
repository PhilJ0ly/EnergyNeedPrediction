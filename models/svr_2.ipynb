{
 "cells": [
  {
   "cell_type": "markdown",
   "metadata": {},
   "source": [
    "Philippe JOly\n",
    "This is to further tune hyperparams using a simple grid search (instead of Byaesian search)"
   ]
  },
  {
   "cell_type": "code",
   "execution_count": 1,
   "metadata": {},
   "outputs": [],
   "source": [
    "from sklearn.svm import SVR\n",
    "from sklearn.model_selection import GridSearchCV\n",
    "from sklearn.metrics import mean_squared_error, r2_score, mean_absolute_error\n",
    "from sklearn.preprocessing import StandardScaler\n",
    "import numpy as np\n",
    "import matplotlib.pyplot as plt\n",
    "import pandas as pd\n",
    "from datetime import datetime as dt\n",
    "import pickle"
   ]
  },
  {
   "cell_type": "code",
   "execution_count": 2,
   "metadata": {},
   "outputs": [],
   "source": [
    "train = pd.read_csv('../../data/train_static.csv')\n",
    "val = pd.read_csv('../../data/val_static.csv')\n",
    "test = pd.read_csv('../../data/test_static.csv')"
   ]
  },
  {
   "cell_type": "code",
   "execution_count": 3,
   "metadata": {},
   "outputs": [],
   "source": [
    "\n",
    "train.drop(columns=['Date/Time (UTC)','Year'], inplace=True)\n",
    "val.drop(columns=['Date/Time (UTC)','Year'], inplace=True)\n",
    "test.drop(columns=['Date/Time (UTC)','Year'], inplace=True)\n",
    "\n",
    "X = train.drop(columns=[\"Average Power Output (MW)\"]).values\n",
    "y = train[\"Average Power Output (MW)\"].values\n",
    "\n",
    "X_val = val.drop(columns=[\"Average Power Output (MW)\"]).values\n",
    "y_val = val[\"Average Power Output (MW)\"].values\n",
    "\n",
    "X_test = test.drop(columns=[\"Average Power Output (MW)\"]).values\n",
    "y_test = test[\"Average Power Output (MW)\"].values"
   ]
  },
  {
   "cell_type": "code",
   "execution_count": 4,
   "metadata": {},
   "outputs": [],
   "source": [
    "y = y.reshape(len(y), 1)\n",
    "y_val = y_val.reshape(len(y_val), 1)\n",
    "y_test = y_test.reshape(len(y_test), 1)\n",
    "\n",
    "x_scaler = StandardScaler().fit(X)\n",
    "y_scaler = StandardScaler().fit(y)\n",
    "\n",
    "X = x_scaler.transform(X)\n",
    "y = y_scaler.transform(y)\n",
    "\n",
    "X_val = x_scaler.transform(X_val)\n",
    "y_val = y_scaler.transform(y_val)\n",
    "\n",
    "X_test = x_scaler.transform(X_test)\n",
    "y_test = y_scaler.transform(y_test)\n",
    "\n",
    "y = y.reshape(y.shape[0])\n",
    "y_val = y_val.reshape(y_val.shape[0])\n",
    "y_test = y_test.reshape(y_test.shape[0])"
   ]
  },
  {
   "cell_type": "markdown",
   "metadata": {},
   "source": [
    "# Hype-Parameter Tuning"
   ]
  },
  {
   "cell_type": "code",
   "execution_count": 5,
   "metadata": {},
   "outputs": [],
   "source": [
    "svr = SVR()"
   ]
  },
  {
   "cell_type": "code",
   "execution_count": 6,
   "metadata": {},
   "outputs": [],
   "source": [
    "opt_params=[{\n",
    "    'C': np.logspace(-4,4,10),\n",
    "    'gamma': np.logspace(-6,1,10),\n",
    "    'epsilon': [0.01, 0.1, 0.2, 0.5],\n",
    "    'coef0': [0.0, 0.1, 0.5, 1.0],\n",
    "    'kernel': ('sigmoid','rbf'),\n",
    "    'max_iter': [1000]\n",
    "}]"
   ]
  },
  {
   "cell_type": "code",
   "execution_count": 7,
   "metadata": {},
   "outputs": [
    {
     "name": "stdout",
     "output_type": "stream",
     "text": [
      "Fitting 5 folds for each of 3200 candidates, totalling 16000 fits\n"
     ]
    }
   ],
   "source": [
    "clf = GridSearchCV(estimator=svr, param_grid=opt_params, verbose=4, n_jobs=-1)\n",
    "clf.fit(X,y)"
   ]
  },
  {
   "cell_type": "code",
   "execution_count": null,
   "metadata": {},
   "outputs": [],
   "source": [
    "results = pd.DataFrame(clf.cv_results_).sort_values(by=\"rank_test_score\", ascending=True)"
   ]
  },
  {
   "cell_type": "code",
   "execution_count": null,
   "metadata": {},
   "outputs": [],
   "source": [
    "clf.best_score_"
   ]
  },
  {
   "cell_type": "code",
   "execution_count": null,
   "metadata": {},
   "outputs": [],
   "source": [
    "results.head()"
   ]
  }
 ],
 "metadata": {
  "kernelspec": {
   "display_name": "Python 3",
   "language": "python",
   "name": "python3"
  },
  "language_info": {
   "codemirror_mode": {
    "name": "ipython",
    "version": 3
   },
   "file_extension": ".py",
   "mimetype": "text/x-python",
   "name": "python",
   "nbconvert_exporter": "python",
   "pygments_lexer": "ipython3",
   "version": "3.10.1"
  }
 },
 "nbformat": 4,
 "nbformat_minor": 2
}
