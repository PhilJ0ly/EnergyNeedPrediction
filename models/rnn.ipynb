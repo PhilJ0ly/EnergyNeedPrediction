{
 "cells": [
  {
   "cell_type": "markdown",
   "metadata": {},
   "source": [
    "Philippe Joly MAIS 202\n",
    "\n",
    "This is an implementation of a Recurrent Neural Network (RNN) to predict Electrical Power Demand based on the Weather in Quebec"
   ]
  },
  {
   "cell_type": "code",
   "execution_count": 3,
   "metadata": {},
   "outputs": [],
   "source": [
    "import torch\n",
    "import torch.nn as nn\n",
    "from sklearn.metrics import mean_squared_error, r2_score, mean_absolute_error\n",
    "import numpy as np\n",
    "import matplotlib.pyplot as plt\n",
    "import pandas as pd\n",
    "from datetime import datetime as dt\n",
    "import os\n",
    "from dotenv import load_dotenv\n",
    "load_dotenv()\n",
    "\n",
    "device = torch.device('cuda' if torch.cuda.is_available() else 'cpu')"
   ]
  },
  {
   "cell_type": "markdown",
   "metadata": {},
   "source": [
    "# DATA"
   ]
  },
  {
   "cell_type": "code",
   "execution_count": 4,
   "metadata": {},
   "outputs": [],
   "source": [
    "data = pd.read_csv(os.getenv(\"DATA\"))\n",
    "data['Date/Time (UTC)'] = pd.to_datetime(data['Date/Time (UTC)'])\n",
    "\n",
    "day = 60*60*24\n",
    "year = 365.2425*day\n",
    "week = 7*day\n",
    "data['Seconds'] = data['Date/Time (UTC)'].map(pd.Timestamp.timestamp)\n",
    "data['Day sin'] = np.sin(data['Seconds'] * (2* np.pi / day))\n",
    "data['Day cos'] = np.cos(data['Seconds'] * (2 * np.pi / day))\n",
    "data['week sin'] = np.sin(data['Seconds'] * (2 * np.pi / week))\n",
    "data['week cos'] = np.cos(data['Seconds'] * (2 * np.pi / week))\n",
    "data['Year sin'] = np.sin(data['Seconds'] * (2 * np.pi / year))\n",
    "data['Year cos'] = np.cos(data['Seconds'] * (2 * np.pi / year))\n",
    "\n",
    "data.drop(columns=['Year','Month','Day','Hour','Day of Week','Population', 'Seconds'], inplace=True)\n",
    "data.set_index('Date/Time (UTC)', inplace=True)\n",
    "\n",
    "column_order = ['Average Power Output (MW)'] + [col for col in data.columns if col != 'Average Power Output (MW)']\n",
    "data = data[column_order]"
   ]
  },
  {
   "cell_type": "markdown",
   "metadata": {},
   "source": [
    "# MODEL"
   ]
  },
  {
   "cell_type": "code",
   "execution_count": 5,
   "metadata": {},
   "outputs": [],
   "source": [
    "class RNN(nn.Module):\n",
    "    def __init__(self, input_size, output_size, num_layers, hidden_size):\n",
    "        super(RNN, self).__init__()\n",
    "        self.to(device)\n",
    "        \n",
    "        self.num_layers = num_layers\n",
    "        self.hidden_size = hidden_size\n",
    "        self.input_size = input_size\n",
    "\n",
    "        self.rnn = nn.RNN(input_size, hidden_size, num_layers, batch_first=True)\n",
    "        self.output_layer = nn.Linear(hidden_size, output_size)\n",
    "\n",
    "    def forward(self, X):\n",
    "        h0 = torch.zeros(self.num_layers, X.size(0), self.hidden_size).to(device) \n",
    "        \n",
    "        out, _ = self.rnn(X, h0)\n",
    "        out = out[:,-1,:]\n",
    "        out = self.output_layer(out)\n",
    "        return out\n",
    "    \n",
    "    def getScale(self,X):\n",
    "        self.means = []\n",
    "        self.stds = []\n",
    "\n",
    "        for i in range(self.input_size):\n",
    "            self.means.append(np.mean(X[:,:,i]))\n",
    "            self.stds.append(np.std(X[:,:,i]))\n",
    "\n",
    "    def scaleX(self, X):\n",
    "        for i in range(self.input_size):\n",
    "            X[:,:,i] = (X[:,:,i]-self.means[i])/self.stds[i]\n",
    "        return X\n",
    "    \n",
    "    def scaley(self, y):\n",
    "        y = (y-self.means[0])/self.stds[0]\n",
    "        return y\n",
    "    \n",
    "    def unscaley(self,y):\n",
    "        y = y*self.stds[0]+self.means[0]\n",
    "        return y\n",
    "    \n",
    "    def df_to_Xy(df, window_size):\n",
    "        dfArr = df.to_numpy()\n",
    "        X = []\n",
    "        y= []\n",
    "        for i in range(len(dfArr)-window_size):\n",
    "            row = [r for r in dfArr[i:i+window_size]]\n",
    "\n",
    "            if (np.isnan(row).any() or np.isnan(dfArr[i+window_size][0])):\n",
    "                continue\n",
    "\n",
    "            X.append(row)\n",
    "            label = dfArr[i+window_size][0]\n",
    "            y.append(label)\n",
    "        return np.array(X), np.array(y)\n",
    "    \n",
    "    def data_split(df, train_perc=90, test_perc=5, window_size=6):\n",
    "        X_tot, y_tot = RNN.df_to_Xy(data, window_size)\n",
    "        \n",
    "        size = X_tot.shape[0]\n",
    "        size_train = (size*train_perc)//100\n",
    "        size_test = (size*test_perc)//100\n",
    "        size_val = size-size_train-size_test\n",
    "        \n",
    "        X, y = X_tot[:size_train], y_tot[:size_train]\n",
    "        X_val, y_val = X_tot[size_train:size_train+size_val], y_tot[size_train:size_train+size_val]\n",
    "        X_test, y_test = X_tot[size_train+size_val:], y_tot[size_train+size_val:]\n",
    "\n",
    "        return X, X_val, X_test, y, y_val, y_test\n",
    "    \n",
    "    def fit(self, X_train, y_train, X_val, y_val, num_epochs, batch_num, lr):\n",
    "        batch_size = X_train.shape[0]//batch_num\n",
    "        criterion = nn.MSELoss()\n",
    "        optimizer = torch.optim.Adam(self.parameters(), lr=lr)\n",
    "\n",
    "        self.train_losses = []\n",
    "        self.val_losses = []\n",
    "        self.it_ls = []\n",
    "\n",
    "        self.getScale(X_train)\n",
    "        X_train = torch.from_numpy(self.scaleX(X_train))\n",
    "        y_train = torch.from_numpy(self.scaley(y_train))\n",
    "\n",
    "        X_val = torch.from_numpy(self.scaleX(X_val)).to(torch.float32).to(device)\n",
    "        y_val = torch.from_numpy(self.scaley(y_val)).to(torch.float32).to(device)\n",
    "\n",
    "        train_load = torch.utils.data.TensorDataset(X_train,y_train)\n",
    "        train_load = torch.utils.data.DataLoader(dataset=train_load, batch_size=batch_size, shuffle=True)\n",
    "\n",
    "        for epoch in range(num_epochs):\n",
    "            for i, (X, y) in enumerate(train_load):\n",
    "                self.it_ls.append(epoch*len(train_load)+i)\n",
    "                X= X.to(torch.float32).to(device)\n",
    "                y = y.to(torch.float32).to(device)\n",
    "                \n",
    "                outputs = self.forward(X)\n",
    "                outputs = outputs.reshape(outputs.shape[0])\n",
    "\n",
    "                loss = criterion(outputs, y)\n",
    "                self.train_losses.append(loss.item())\n",
    "\n",
    "                with torch.no_grad():\n",
    "                    val_outputs=self.forward(X_val)\n",
    "                    self.val_losses.append(criterion(val_outputs.reshape(val_outputs.shape[0]), y_val).item())\n",
    "\n",
    "                optimizer.zero_grad()\n",
    "                loss.backward()\n",
    "                optimizer.step()\n",
    "\n",
    "                if((epoch*len(train_load)+i+1)%(num_epochs*len(train_load)//10+1)==0):\n",
    "                    print(f'epoch: {epoch+1}/{num_epochs}, step {i+1}/{len(train_load)}, loss = {loss.item():.4f}')\n",
    "    \n",
    "    def train_score(self):\n",
    "        print(f'Training Loss: {self.train_losses[-1]:.4f}')\n",
    "        print(f'Validation Loss: {self.val_losses[-1]:.4f}')\n",
    "\n",
    "        plt.plot(self.it_ls, self.train_losses, color=\"blue\", label=\"Training Loss\")\n",
    "        plt.plot(self.it_ls, self.val_losses, color=\"red\", label=\"Validation Loss\")\n",
    "        plt.xlabel(\"Iterations\")\n",
    "        plt.ylabel(\"MSE\")\n",
    "        plt.title(\"Training and Validation MSE\")\n",
    "        plt.legend()\n",
    "        plt.show()\n",
    "\n",
    "    def test_score(self, X_test, y_test):\n",
    "        with torch.no_grad():\n",
    "            X_test = self.scaleX(X_test)\n",
    "            outputs = self.forward(torch.from_numpy(X_test).to(torch.float32).to(device)).to('cpu').detach().numpy()\n",
    "            y_pred = self.unscaley(outputs)\n",
    "\n",
    "            print(f'MSE: {mean_squared_error(y_test, y_pred)}')\n",
    "            print(f'R2: {r2_score(y_test, y_pred)}')\n",
    "            print(f'MAE: {mean_absolute_error(y_test, y_pred)}')\n",
    "\n",
    "    def save_model(self, name):\n",
    "        time = dt.now().strftime(\"%y-%m-%d_%H:%M\")\n",
    "        f = f\"../trainedModels/{name}_{time}.pth\"\n",
    "        torch.save(self.state_dict(), f)"
   ]
  },
  {
   "cell_type": "markdown",
   "metadata": {},
   "source": [
    "# Training and Testing"
   ]
  },
  {
   "cell_type": "code",
   "execution_count": 6,
   "metadata": {},
   "outputs": [],
   "source": [
    "X, X_val, X_test, y, y_val, y_test = RNN.data_split(df=data, train_perc=90, test_perc=5, window_size=6)\n",
    "\n",
    "model = RNN(input_size=X.shape[2], output_size=1, num_layers=2, hidden_size=48)"
   ]
  },
  {
   "cell_type": "code",
   "execution_count": 7,
   "metadata": {},
   "outputs": [
    {
     "name": "stdout",
     "output_type": "stream",
     "text": [
      "epoch: 3/20, step 1/1, loss = 1.1202\n",
      "epoch: 6/20, step 1/1, loss = 0.8173\n",
      "epoch: 9/20, step 1/1, loss = 0.5582\n",
      "epoch: 12/20, step 1/1, loss = 0.3285\n",
      "epoch: 15/20, step 1/1, loss = 0.1879\n",
      "epoch: 18/20, step 1/1, loss = 0.1959\n"
     ]
    }
   ],
   "source": [
    "model.fit(X_train=X, y_train=y, X_val=X_val, y_val=y_val, num_epochs=20, batch_num=1, lr=0.001)"
   ]
  },
  {
   "cell_type": "code",
   "execution_count": 8,
   "metadata": {},
   "outputs": [
    {
     "name": "stdout",
     "output_type": "stream",
     "text": [
      "Training Loss: 0.2167\n",
      "Validation Loss: 0.2385\n"
     ]
    },
    {
     "data": {
      "image/png": "[encoded data removed]",
      "text/plain": [
       "<Figure size 640x480 with 1 Axes>"
      ]
     },
     "metadata": {},
     "output_type": "display_data"
    },
    {
     "name": "stdout",
     "output_type": "stream",
     "text": [
      "MSE: 17018768.6679538\n",
      "R2: -4.740397318992486\n",
      "MAE: 3882.4015088756078\n"
     ]
    }
   ],
   "source": [
    "model.train_score()\n",
    "model.test_score(X_test=X_val, y_test=y_val)"
   ]
  },
  {
   "cell_type": "code",
   "execution_count": 9,
   "metadata": {},
   "outputs": [],
   "source": [
    "model.save_model(f\"../trainedModels/rnn_1x128hid\")"
   ]
  }
 ],
 "metadata": {
  "kernelspec": {
   "display_name": "Python 3",
   "language": "python",
   "name": "python3"
  },
  "language_info": {
   "codemirror_mode": {
    "name": "ipython",
    "version": 3
   },
   "file_extension": ".py",
   "mimetype": "text/x-python",
   "name": "python",
   "nbconvert_exporter": "python",
   "pygments_lexer": "ipython3",
   "version": "3.10.1"
  }
 },
 "nbformat": 4,
 "nbformat_minor": 2
}
