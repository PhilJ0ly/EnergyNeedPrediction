{
 "cells": [
  {
   "cell_type": "markdown",
   "metadata": {},
   "source": [
    "Philippe Joly MAIS 202\n",
    "\n",
    "This is an implementation of a Long Short-Term Memory Network (LSTM) to predict Electrical Power Demand based on the Weather in Quebec"
   ]
  },
  {
   "cell_type": "code",
   "execution_count": 58,
   "metadata": {},
   "outputs": [],
   "source": [
    "import torch\n",
    "import torch.nn as nn\n",
    "from sklearn.metrics import mean_squared_error, r2_score, mean_absolute_error\n",
    "import numpy as np\n",
    "import matplotlib.pyplot as plt\n",
    "import pandas as pd\n",
    "from datetime import datetime as dt\n",
    "import os\n",
    "from dotenv import load_dotenv\n",
    "load_dotenv()\n",
    "\n",
    "device = torch.device('cuda' if torch.cuda.is_available() else 'cpu')"
   ]
  },
  {
   "cell_type": "markdown",
   "metadata": {},
   "source": [
    "# DATA"
   ]
  },
  {
   "cell_type": "code",
   "execution_count": 59,
   "metadata": {},
   "outputs": [],
   "source": [
    "data = pd.read_csv(os.getenv(\"DATA\"))\n",
    "data['Date/Time (UTC)'] = pd.to_datetime(data['Date/Time (UTC)'])\n",
    "\n",
    "day = 60*60*24\n",
    "year = 365.2425*day\n",
    "week = 7*day\n",
    "data['Seconds'] = data['Date/Time (UTC)'].map(pd.Timestamp.timestamp)\n",
    "data['Day sin'] = np.sin(data['Seconds'] * (2* np.pi / day))\n",
    "data['Day cos'] = np.cos(data['Seconds'] * (2 * np.pi / day))\n",
    "data['week sin'] = np.sin(data['Seconds'] * (2 * np.pi / week))\n",
    "data['week cos'] = np.cos(data['Seconds'] * (2 * np.pi / week))\n",
    "data['Year sin'] = np.sin(data['Seconds'] * (2 * np.pi / year))\n",
    "data['Year cos'] = np.cos(data['Seconds'] * (2 * np.pi / year))\n",
    "\n",
    "data.drop(columns=['Year','Month','Day','Hour','Day of Week','Population', 'Seconds'], inplace=True)\n",
    "data.set_index('Date/Time (UTC)', inplace=True)\n",
    "\n",
    "column_order = ['Average Power Output (MW)'] + [col for col in data.columns if col != 'Average Power Output (MW)']\n",
    "data = data[column_order]"
   ]
  },
  {
   "cell_type": "code",
   "execution_count": 60,
   "metadata": {},
   "outputs": [
    {
     "data": {
      "text/html": [
       "<div>\n",
       "<style scoped>\n",
       "    .dataframe tbody tr th:only-of-type {\n",
       "        vertical-align: middle;\n",
       "    }\n",
       "\n",
       "    .dataframe tbody tr th {\n",
       "        vertical-align: top;\n",
       "    }\n",
       "\n",
       "    .dataframe thead th {\n",
       "        text-align: right;\n",
       "    }\n",
       "</style>\n",
       "<table border=\"1\" class=\"dataframe\">\n",
       "  <thead>\n",
       "    <tr style=\"text-align: right;\">\n",
       "      <th></th>\n",
       "      <th>Average Power Output (MW)</th>\n",
       "      <th>Temp (°C)</th>\n",
       "      <th>Day sin</th>\n",
       "      <th>Day cos</th>\n",
       "      <th>week sin</th>\n",
       "      <th>week cos</th>\n",
       "      <th>Year sin</th>\n",
       "      <th>Year cos</th>\n",
       "    </tr>\n",
       "    <tr>\n",
       "      <th>Date/Time (UTC)</th>\n",
       "      <th></th>\n",
       "      <th></th>\n",
       "      <th></th>\n",
       "      <th></th>\n",
       "      <th></th>\n",
       "      <th></th>\n",
       "      <th></th>\n",
       "      <th></th>\n",
       "    </tr>\n",
       "  </thead>\n",
       "  <tbody>\n",
       "    <tr>\n",
       "      <th>2019-01-01 00:00:00</th>\n",
       "      <td>NaN</td>\n",
       "      <td>-3.172212</td>\n",
       "      <td>-5.030095e-12</td>\n",
       "      <td>1.000000</td>\n",
       "      <td>-0.974928</td>\n",
       "      <td>-0.222521</td>\n",
       "      <td>0.002021</td>\n",
       "      <td>0.999998</td>\n",
       "    </tr>\n",
       "    <tr>\n",
       "      <th>2019-01-01 01:00:00</th>\n",
       "      <td>23762.55</td>\n",
       "      <td>-3.129954</td>\n",
       "      <td>2.588190e-01</td>\n",
       "      <td>0.965926</td>\n",
       "      <td>-0.982566</td>\n",
       "      <td>-0.185912</td>\n",
       "      <td>0.002738</td>\n",
       "      <td>0.999996</td>\n",
       "    </tr>\n",
       "    <tr>\n",
       "      <th>2019-01-01 02:00:00</th>\n",
       "      <td>23830.23</td>\n",
       "      <td>-3.200603</td>\n",
       "      <td>5.000000e-01</td>\n",
       "      <td>0.866025</td>\n",
       "      <td>-0.988831</td>\n",
       "      <td>-0.149042</td>\n",
       "      <td>0.003455</td>\n",
       "      <td>0.999994</td>\n",
       "    </tr>\n",
       "    <tr>\n",
       "      <th>2019-01-01 03:00:00</th>\n",
       "      <td>23608.07</td>\n",
       "      <td>-2.736991</td>\n",
       "      <td>7.071068e-01</td>\n",
       "      <td>0.707107</td>\n",
       "      <td>-0.993712</td>\n",
       "      <td>-0.111964</td>\n",
       "      <td>0.004172</td>\n",
       "      <td>0.999991</td>\n",
       "    </tr>\n",
       "    <tr>\n",
       "      <th>2019-01-01 04:00:00</th>\n",
       "      <td>23562.48</td>\n",
       "      <td>-1.625532</td>\n",
       "      <td>8.660254e-01</td>\n",
       "      <td>0.500000</td>\n",
       "      <td>-0.997204</td>\n",
       "      <td>-0.074730</td>\n",
       "      <td>0.004888</td>\n",
       "      <td>0.999988</td>\n",
       "    </tr>\n",
       "  </tbody>\n",
       "</table>\n",
       "</div>"
      ],
      "text/plain": [
       "                     Average Power Output (MW)  Temp (°C)       Day sin  \\\n",
       "Date/Time (UTC)                                                           \n",
       "2019-01-01 00:00:00                        NaN  -3.172212 -5.030095e-12   \n",
       "2019-01-01 01:00:00                   23762.55  -3.129954  2.588190e-01   \n",
       "2019-01-01 02:00:00                   23830.23  -3.200603  5.000000e-01   \n",
       "2019-01-01 03:00:00                   23608.07  -2.736991  7.071068e-01   \n",
       "2019-01-01 04:00:00                   23562.48  -1.625532  8.660254e-01   \n",
       "\n",
       "                      Day cos  week sin  week cos  Year sin  Year cos  \n",
       "Date/Time (UTC)                                                        \n",
       "2019-01-01 00:00:00  1.000000 -0.974928 -0.222521  0.002021  0.999998  \n",
       "2019-01-01 01:00:00  0.965926 -0.982566 -0.185912  0.002738  0.999996  \n",
       "2019-01-01 02:00:00  0.866025 -0.988831 -0.149042  0.003455  0.999994  \n",
       "2019-01-01 03:00:00  0.707107 -0.993712 -0.111964  0.004172  0.999991  \n",
       "2019-01-01 04:00:00  0.500000 -0.997204 -0.074730  0.004888  0.999988  "
      ]
     },
     "execution_count": 60,
     "metadata": {},
     "output_type": "execute_result"
    }
   ],
   "source": [
    "data.head()"
   ]
  },
  {
   "cell_type": "markdown",
   "metadata": {},
   "source": [
    "# MODEL"
   ]
  },
  {
   "cell_type": "code",
   "execution_count": 61,
   "metadata": {},
   "outputs": [],
   "source": [
    "class LSTM(nn.Module):\n",
    "    def __init__(self, input_size, output_size, num_layers, hidden_size):\n",
    "        super(LSTM, self).__init__()\n",
    "        self.to(device)\n",
    "        \n",
    "        self.num_layers = num_layers\n",
    "        self.hidden_size = hidden_size\n",
    "        self.input_size = input_size\n",
    "\n",
    "        self.lstm = nn.LSTM(input_size, hidden_size, num_layers, batch_first=True)\n",
    "        self.fc1 = nn.Linear(hidden_size, hidden_size//5)\n",
    "        self.fc2 = nn.Linear(hidden_size//5, output_size)\n",
    "        self.relu = nn.ReLU()\n",
    "\n",
    "    def forward(self, X):\n",
    "        h0 = torch.zeros(self.num_layers, X.size(0), self.hidden_size).to(device) \n",
    "        c0 = torch.zeros(self.num_layers, X.size(0), self.hidden_size).to(device) \n",
    "        \n",
    "        out, _ = self.lstm(X, (h0,c0))\n",
    "        out = out[:,-1,:]\n",
    "        out = self.fc1(out)\n",
    "        out = self.relu(out)\n",
    "        out = self.fc2(out)\n",
    "        return out\n",
    "    \n",
    "    def getScale(self,X):\n",
    "        self.means = []\n",
    "        self.stds = []\n",
    "\n",
    "        for i in range(self.input_size):\n",
    "            self.means.append(np.mean(X[:,:,i]))\n",
    "            self.stds.append(np.std(X[:,:,i]))\n",
    "\n",
    "    def scaleX(self, X):\n",
    "        for i in range(self.input_size):\n",
    "            X[:,:,i] = (X[:,:,i]-self.means[i])/self.stds[i]\n",
    "        return X\n",
    "    \n",
    "    def scaley(self, y):\n",
    "        y = (y-self.means[0])/self.stds[0]\n",
    "        return y\n",
    "    \n",
    "    def unscaley(self,y):\n",
    "        y = y*self.stds[0]+self.means[0]\n",
    "        return y\n",
    "    \n",
    "    def df_to_Xy(df, window_size):\n",
    "        dfArr = df.to_numpy()\n",
    "        X = []\n",
    "        y= []\n",
    "        for i in range(len(dfArr)-window_size):\n",
    "            row = [r for r in dfArr[i:i+window_size]]\n",
    "\n",
    "            if (np.isnan(row).any() or np.isnan(dfArr[i+window_size][0])):\n",
    "                continue\n",
    "\n",
    "            X.append(row)\n",
    "            label = dfArr[i+window_size][0]\n",
    "            y.append(label)\n",
    "        return np.array(X), np.array(y)\n",
    "    \n",
    "    def data_split(df, train_perc=90, test_perc=5, window_size=6):\n",
    "        X_tot, y_tot = LSTM.df_to_Xy(data, window_size)\n",
    "        \n",
    "        size = X_tot.shape[0]\n",
    "        size_train = (size*train_perc)//100\n",
    "        size_test = (size*test_perc)//100\n",
    "        size_val = size-size_train-size_test\n",
    "        \n",
    "        X, y = X_tot[:size_train], y_tot[:size_train]\n",
    "        X_val, y_val = X_tot[size_train:size_train+size_val], y_tot[size_train:size_train+size_val]\n",
    "        X_test, y_test = X_tot[size_train+size_val:], y_tot[size_train+size_val:]\n",
    "\n",
    "        return X, X_val, X_test, y, y_val, y_test\n",
    "    \n",
    "    def fit(self, X_train, y_train, X_val, y_val, num_epochs, batch_num, lr):\n",
    "        batch_size = X_train.shape[0]//batch_num\n",
    "        criterion = nn.MSELoss()\n",
    "        optimizer = torch.optim.Adam(self.parameters(), lr=lr)\n",
    "\n",
    "        self.train_losses = []\n",
    "        self.val_losses = []\n",
    "        self.it_ls = []\n",
    "\n",
    "        self.getScale(X_train)\n",
    "        X_train = torch.from_numpy(self.scaleX(X_train))\n",
    "        y_train = torch.from_numpy(self.scaley(y_train))\n",
    "\n",
    "        X_val = torch.from_numpy(self.scaleX(X_val)).to(torch.float32).to(device)\n",
    "        y_val = torch.from_numpy(self.scaley(y_val)).to(torch.float32).to(device)\n",
    "\n",
    "        train_load = torch.utils.data.TensorDataset(X_train,y_train)\n",
    "        train_load = torch.utils.data.DataLoader(dataset=train_load, batch_size=batch_size, shuffle=True)\n",
    "\n",
    "        for epoch in range(num_epochs):\n",
    "            for i, (X, y) in enumerate(train_load):\n",
    "                self.it_ls.append(epoch*len(train_load)+i)\n",
    "                X= X.to(torch.float32).to(device)\n",
    "                y = y.to(torch.float32).to(device)\n",
    "                \n",
    "                outputs = self.forward(X)\n",
    "                outputs = outputs.reshape(outputs.shape[0])\n",
    "\n",
    "                loss = criterion(outputs, y)\n",
    "                self.train_losses.append(loss.item())\n",
    "\n",
    "                with torch.no_grad():\n",
    "                    val_outputs=self.forward(X_val)\n",
    "                    self.val_losses.append(criterion(val_outputs.reshape(val_outputs.shape[0]), y_val).item())\n",
    "\n",
    "                optimizer.zero_grad()\n",
    "                loss.backward()\n",
    "                optimizer.step()\n",
    "\n",
    "                if((epoch*len(train_load)+i+1)%(num_epochs*len(train_load)//10+1)==0):\n",
    "                    print(f'epoch: {epoch+1}/{num_epochs}, step {i+1}/{len(train_load)}, loss = {loss.item():.4f}')\n",
    "    \n",
    "    def train_score(self):\n",
    "        print(f'Training Loss: {self.train_losses[-1]:.4f}')\n",
    "        print(f'Validation Loss: {self.val_losses[-1]:.4f}')\n",
    "\n",
    "        plt.plot(self.it_ls, self.train_losses, color=\"blue\", label=\"Training Loss\")\n",
    "        plt.plot(self.it_ls, self.val_losses, color=\"red\", label=\"Validation Loss\")\n",
    "        plt.xlabel(\"Batches\")\n",
    "        plt.ylabel(\"MSE\")\n",
    "        plt.title(\"Training and Validation MSE\")\n",
    "        plt.legend()\n",
    "        plt.show()\n",
    "\n",
    "    def test_score(self, X_test, y_test, scaled=False):\n",
    "        with torch.no_grad():\n",
    "            if(not scaled):\n",
    "                X_test = self.scaleX(X_test)\n",
    "            outputs = self.forward(torch.from_numpy(X_test).to(torch.float32).to(device)).to('cpu').detach().numpy()\n",
    "            outputs = outputs.reshape(outputs.shape[0])\n",
    "            y_pred = self.unscaley(outputs)\n",
    "\n",
    "            print(f'MSE: {mean_squared_error(y_test, y_pred)}')\n",
    "            print(f'R2: {r2_score(y_test, y_pred)}')\n",
    "            print(f'MAE: {mean_absolute_error(y_test, y_pred)}')\n",
    "\n",
    "            return y_pred\n",
    "\n",
    "    def save_model(self, name):\n",
    "        time = dt.now().strftime(\"%y-%m-%d_%H:%M\")\n",
    "        f = f\"../trainedModels/{name}_{time}.pth\"\n",
    "        torch.save(self.state_dict(), f)"
   ]
  },
  {
   "cell_type": "markdown",
   "metadata": {},
   "source": [
    "# Training and Testing"
   ]
  },
  {
   "cell_type": "code",
   "execution_count": 62,
   "metadata": {},
   "outputs": [],
   "source": [
    "X, X_val, X_test, y, y_val, y_test = LSTM.data_split(df=data, train_perc=85, test_perc=7, window_size=24)\n",
    "\n",
    "model = LSTM(input_size=X.shape[2], output_size=1, num_layers=2, hidden_size=150)"
   ]
  },
  {
   "cell_type": "code",
   "execution_count": 63,
   "metadata": {},
   "outputs": [
    {
     "name": "stdout",
     "output_type": "stream",
     "text": [
      "epoch: 3/20, step 1/4, loss = 0.5562\n",
      "epoch: 5/20, step 2/4, loss = 0.1926\n",
      "epoch: 7/20, step 3/4, loss = 0.1405\n",
      "epoch: 9/20, step 4/4, loss = 0.1030\n",
      "epoch: 12/20, step 1/4, loss = 0.0843\n",
      "epoch: 14/20, step 2/4, loss = 0.0744\n",
      "epoch: 16/20, step 3/4, loss = 0.0693\n",
      "epoch: 18/20, step 4/4, loss = 0.0641\n"
     ]
    }
   ],
   "source": [
    "model.fit(X_train=X, y_train=y, X_val=X_val, y_val=y_val, num_epochs=20, batch_num=4, lr=0.001)"
   ]
  },
  {
   "cell_type": "code",
   "execution_count": 64,
   "metadata": {},
   "outputs": [
    {
     "name": "stdout",
     "output_type": "stream",
     "text": [
      "Training Loss: 0.0576\n",
      "Validation Loss: 0.0298\n"
     ]
    },
    {
     "data": {
      "image/png": "[encoded data removed]",
      "text/plain": [
       "<Figure size 640x480 with 1 Axes>"
      ]
     },
     "metadata": {},
     "output_type": "display_data"
    },
    {
     "name": "stdout",
     "output_type": "stream",
     "text": [
      "[[-0.3538702  -0.37602038 -0.41046076 -0.449706   -0.48126198 -0.43519688\n",
      "  -0.3727263  -0.39125986 -0.46006648 -0.50970185 -0.59686407 -0.74201455\n",
      "  -0.91397177 -1.017482   -1.10435133 -1.1585617  -1.18760589 -1.17979058\n",
      "  -1.17361767 -1.09202219 -0.95465736 -0.79466224 -0.68516633 -0.62855352]\n",
      " [-0.37602038 -0.41046076 -0.449706   -0.48126198 -0.43519688 -0.3727263\n",
      "  -0.39125986 -0.46006648 -0.50970185 -0.59686407 -0.74201455 -0.91397177\n",
      "  -1.017482   -1.10435133 -1.1585617  -1.18760589 -1.17979058 -1.17361767\n",
      "  -1.09202219 -0.95465736 -0.79466224 -0.68516633 -0.62855352 -0.58349685]\n",
      " [-0.41046076 -0.449706   -0.48126198 -0.43519688 -0.3727263  -0.39125986\n",
      "  -0.46006648 -0.50970185 -0.59686407 -0.74201455 -0.91397177 -1.017482\n",
      "  -1.10435133 -1.1585617  -1.18760589 -1.17979058 -1.17361767 -1.09202219\n",
      "  -0.95465736 -0.79466224 -0.68516633 -0.62855352 -0.58349685 -0.6066295 ]\n",
      " [-0.449706   -0.48126198 -0.43519688 -0.3727263  -0.39125986 -0.46006648\n",
      "  -0.50970185 -0.59686407 -0.74201455 -0.91397177 -1.017482   -1.10435133\n",
      "  -1.1585617  -1.18760589 -1.17979058 -1.17361767 -1.09202219 -0.95465736\n",
      "  -0.79466224 -0.68516633 -0.62855352 -0.58349685 -0.6066295  -0.66867001]\n",
      " [-0.48126198 -0.43519688 -0.3727263  -0.39125986 -0.46006648 -0.50970185\n",
      "  -0.59686407 -0.74201455 -0.91397177 -1.017482   -1.10435133 -1.1585617\n",
      "  -1.18760589 -1.17979058 -1.17361767 -1.09202219 -0.95465736 -0.79466224\n",
      "  -0.68516633 -0.62855352 -0.58349685 -0.6066295  -0.66867001 -0.75529094]] [18664.17 18539.38 18204.7  17737.42 17645.77]\n",
      "[-0.6393812  -0.5923939  -0.56385267 -0.5514424  -0.556636  ]\n",
      "[18362.7   18616.176 18770.14  18837.09  18809.072]\n",
      "MSE: 854359.4581748554\n",
      "R2: 0.7169540200595286\n",
      "MAE: 736.3421418873429\n"
     ]
    }
   ],
   "source": [
    "model.train_score()\n",
    "y_pred = model.test_score(X_test=X_val, y_test=y_val, scaled=True)"
   ]
  },
  {
   "cell_type": "code",
   "execution_count": 70,
   "metadata": {},
   "outputs": [
    {
     "data": {
      "text/plain": [
       "<matplotlib.collections.PathCollection at 0x267502c9fc0>"
      ]
     },
     "execution_count": 70,
     "metadata": {},
     "output_type": "execute_result"
    },
    {
     "data": {
      "image/png": "[encoded data removed]",
      "text/plain": [
       "<Figure size 640x480 with 1 Axes>"
      ]
     },
     "metadata": {},
     "output_type": "display_data"
    }
   ],
   "source": [
    "s=500\n",
    "# l =y_pred.shape[0]\n",
    "l=200\n",
    "ind = np.zeros(l)\n",
    "for i in range(l):\n",
    "    ind[i] = i\n",
    "plt.scatter(ind, y_pred[s:s+l],color=\"red\")\n",
    "plt.scatter(ind, y_val[s:s+l])"
   ]
  },
  {
   "cell_type": "code",
   "execution_count": 66,
   "metadata": {},
   "outputs": [],
   "source": [
    "# s=0\n",
    "# l =y_pred.shape[0]\n",
    "# ind = np.zeros(l)\n",
    "# y_pred = model.unscaley(y_pred)\n",
    "# y_test = model.unscaley(y_test)\n",
    "# for i in range(l):\n",
    "#     ind[i] = i\n",
    "# print(y_pred.shape)\n",
    "# print(y_test.shape)\n",
    "# print(ind.shape)\n",
    "# plt.scatter(ind, y_pred,color=\"red\")\n",
    "# plt.scatter(ind, y_test)"
   ]
  },
  {
   "cell_type": "code",
   "execution_count": 67,
   "metadata": {},
   "outputs": [],
   "source": [
    "#model.save_model(f\"../trainedModels/lstm_1x128hid\")"
   ]
  }
 ],
 "metadata": {
  "kernelspec": {
   "display_name": "Python 3",
   "language": "python",
   "name": "python3"
  },
  "language_info": {
   "codemirror_mode": {
    "name": "ipython",
    "version": 3
   },
   "file_extension": ".py",
   "mimetype": "text/x-python",
   "name": "python",
   "nbconvert_exporter": "python",
   "pygments_lexer": "ipython3",
   "version": "3.10.1"
  }
 },
 "nbformat": 4,
 "nbformat_minor": 2
}
