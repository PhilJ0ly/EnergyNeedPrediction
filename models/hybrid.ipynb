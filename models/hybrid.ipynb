{
 "cells": [
  {
   "cell_type": "markdown",
   "metadata": {},
   "source": [
    "Philippe Joly MAIS 202\n",
    "\n",
    "This is an implementation of a Sequential Convolutional Neural Network (CNN) to predict Electrical Power Demand based on the Weather in Quebec. The strategy being to create a tensor of sequential data (as would be done for a LSTM) and train a CNN on it."
   ]
  },
  {
   "cell_type": "code",
   "execution_count": 1,
   "metadata": {},
   "outputs": [],
   "source": [
    "import torch\n",
    "import torch.nn as nn\n",
    "from sklearn.metrics import mean_squared_error, r2_score, mean_absolute_error\n",
    "import numpy as np\n",
    "import matplotlib.pyplot as plt\n",
    "import pandas as pd\n",
    "from datetime import datetime as dt\n",
    "import os\n",
    "from dotenv import load_dotenv\n",
    "load_dotenv()\n",
    "\n",
    "device = torch.device('cuda' if torch.cuda.is_available() else 'cpu')"
   ]
  },
  {
   "cell_type": "markdown",
   "metadata": {},
   "source": [
    "# DATA"
   ]
  },
  {
   "cell_type": "code",
   "execution_count": 2,
   "metadata": {},
   "outputs": [],
   "source": [
    "data = pd.read_csv(os.getenv(\"DATA\"))\n",
    "data['Date/Time (UTC)'] = pd.to_datetime(data['Date/Time (UTC)'])\n",
    "\n",
    "day = 60*60*24\n",
    "year = 365.2425*day\n",
    "week = 7*day\n",
    "data['Seconds'] = data['Date/Time (UTC)'].map(pd.Timestamp.timestamp)\n",
    "data['Day sin'] = np.sin(data['Seconds'] * (2* np.pi / day))\n",
    "data['Day cos'] = np.cos(data['Seconds'] * (2 * np.pi / day))\n",
    "data['week sin'] = np.sin(data['Seconds'] * (2 * np.pi / week))\n",
    "data['week cos'] = np.cos(data['Seconds'] * (2 * np.pi / week))\n",
    "data['Year sin'] = np.sin(data['Seconds'] * (2 * np.pi / year))\n",
    "data['Year cos'] = np.cos(data['Seconds'] * (2 * np.pi / year))\n",
    "\n",
    "data.drop(columns=['Year','Month','Day','Hour','Day of Week','Population', 'Seconds'], inplace=True)\n",
    "data.set_index('Date/Time (UTC)', inplace=True)\n",
    "\n",
    "column_order = ['Average Power Output (MW)'] + [col for col in data.columns if col != 'Average Power Output (MW)']\n",
    "data = data[column_order]"
   ]
  },
  {
   "cell_type": "markdown",
   "metadata": {},
   "source": [
    "# MODEL"
   ]
  },
  {
   "cell_type": "code",
   "execution_count": 3,
   "metadata": {},
   "outputs": [],
   "source": [
    "class HYBRID(nn.Module):\n",
    "    def __init__(self, num_features, output_size, hidden_sizes, num_layers, window_size, k_size=[3,3], pad=[1,1]):\n",
    "        super(HYBRID, self).__init__()\n",
    "        self.to(device)\n",
    "        \n",
    "        self.num_features = num_features\n",
    "        self.num_layers = num_layers\n",
    "        self.hidden_size = hidden_sizes[2]\n",
    "\n",
    "        self.conv1 = nn.Conv1d(in_channels=window_size, out_channels=hidden_sizes[0], kernel_size=k_size[0], padding=pad[0])\n",
    "        self.conv2 = nn.Conv1d(in_channels=hidden_sizes[0], out_channels=hidden_sizes[1], kernel_size=k_size[1], padding=pad[1])\n",
    "        \n",
    "        self.relu = nn.ReLU()\n",
    "        self.gru = nn.GRU(num_features, hidden_sizes[2], num_layers, batch_first=True)\n",
    "\n",
    "        self.fc1 = nn.Linear(hidden_sizes[2], hidden_sizes[3])\n",
    "        self.fc2 = nn.Linear(hidden_sizes[3], hidden_sizes[4])\n",
    "        self.fc3 = nn.Linear(hidden_sizes[4], output_size)\n",
    "\n",
    "\n",
    "\n",
    "    def forward(self, X):\n",
    "        h0 = torch.zeros(self.num_layers, X.size(0), self.hidden_size).to(device) \n",
    "        \n",
    "        out = self.conv1(X)\n",
    "        out = self.relu(out)\n",
    "\n",
    "        out = self.conv2(out)\n",
    "        out = self.relu(out)\n",
    "\n",
    "        out, _ = self.gru(X, h0)\n",
    "        out = out[:,-1,:]\n",
    "        out = self.relu(out)\n",
    "\n",
    "        out = self.fc1(out)\n",
    "        out = self.relu(out)\n",
    "        out = self.fc2(out)\n",
    "        out = self.relu(out)\n",
    "        out = self.fc3(out)\n",
    "\n",
    "        return out\n",
    "    \n",
    "    def getScale(self,X):\n",
    "        self.means = []\n",
    "        self.stds = []\n",
    "\n",
    "        for i in range(self.num_features):\n",
    "            self.means.append(np.mean(X[:,:,i]))\n",
    "            self.stds.append(np.std(X[:,:,i]))\n",
    "\n",
    "    def scaleX(self, X):\n",
    "        for i in range(self.num_features):\n",
    "            X[:,:,i] = (X[:,:,i]-self.means[i])/self.stds[i]\n",
    "        return X\n",
    "    \n",
    "    def scaley(self, y):\n",
    "        y = (y-self.means[0])/self.stds[0]\n",
    "        return y\n",
    "    \n",
    "    def unscaley(self,y):\n",
    "        y = y*self.stds[0]+self.means[0]\n",
    "        return y\n",
    "    \n",
    "    def df_to_Xy(df, window_size):\n",
    "        dfArr = df.to_numpy()\n",
    "        X = []\n",
    "        y= []\n",
    "        for i in range(len(dfArr)-window_size):\n",
    "            row = [r for r in dfArr[i:i+window_size]]\n",
    "\n",
    "            if (np.isnan(row).any() or np.isnan(dfArr[i+window_size][0])):\n",
    "                continue\n",
    "\n",
    "            X.append(row)\n",
    "            label = dfArr[i+window_size][0]\n",
    "            y.append(label)\n",
    "        return np.array(X), np.array(y)\n",
    "    \n",
    "    def data_split(df, train_perc=90, test_perc=5, window_size=6):\n",
    "        X_tot, y_tot = HYBRID.df_to_Xy(data, window_size)\n",
    "        \n",
    "        size = X_tot.shape[0]\n",
    "        size_train = (size*train_perc)//100\n",
    "        size_test = (size*test_perc)//100\n",
    "        size_val = size-size_train-size_test\n",
    "        \n",
    "        X, y = X_tot[:size_train], y_tot[:size_train]\n",
    "        X_val, y_val = X_tot[size_train:size_train+size_val], y_tot[size_train:size_train+size_val]\n",
    "        X_test, y_test = X_tot[size_train+size_val:], y_tot[size_train+size_val:]\n",
    "\n",
    "        return X, X_val, X_test, y, y_val, y_test\n",
    "    \n",
    "    def fit(self, X_train, y_train, X_val, y_val, num_epochs, batch_num, lr):\n",
    "        batch_size = X_train.shape[0]//batch_num\n",
    "        criterion = nn.MSELoss()\n",
    "        optimizer = torch.optim.Adam(self.parameters(), lr=lr)\n",
    "\n",
    "        self.train_losses = []\n",
    "        self.val_losses = []\n",
    "        self.it_ls = []\n",
    "\n",
    "        self.getScale(X_train)\n",
    "        X_train = torch.from_numpy(self.scaleX(X_train))\n",
    "        y_train = torch.from_numpy(self.scaley(y_train))\n",
    "\n",
    "        X_val = torch.from_numpy(self.scaleX(X_val)).to(torch.float32).to(device)\n",
    "        y_val = torch.from_numpy(self.scaley(y_val)).to(torch.float32).to(device)\n",
    "\n",
    "        train_load = torch.utils.data.TensorDataset(X_train,y_train)\n",
    "        train_load = torch.utils.data.DataLoader(dataset=train_load, batch_size=batch_size, shuffle=True)\n",
    "\n",
    "        for epoch in range(num_epochs):\n",
    "            for i, (X, y) in enumerate(train_load):\n",
    "                self.it_ls.append(epoch*len(train_load)+i)\n",
    "                X= X.to(torch.float32).to(device)\n",
    "                y = y.to(torch.float32).to(device)\n",
    "                \n",
    "                outputs = self.forward(X)\n",
    "                outputs = outputs.reshape(outputs.shape[0])\n",
    "\n",
    "                loss = criterion(outputs, y)\n",
    "                self.train_losses.append(loss.item())\n",
    "\n",
    "                with torch.no_grad():\n",
    "                    val_outputs=self.forward(X_val)\n",
    "                    self.val_losses.append(criterion(val_outputs.reshape(val_outputs.shape[0]), y_val).item())\n",
    "\n",
    "                optimizer.zero_grad()\n",
    "                loss.backward()\n",
    "                optimizer.step()\n",
    "\n",
    "                if((epoch*len(train_load)+i+1)%(num_epochs*len(train_load)//10+1)==0):\n",
    "                    print(f'epoch: {epoch+1}/{num_epochs}, step {i+1}/{len(train_load)}, loss = {loss.item():.4f}')\n",
    "    \n",
    "    def train_score(self):\n",
    "        print(f'Training Loss: {self.train_losses[-1]:.4f}')\n",
    "        print(f'Validation Loss: {self.val_losses[-1]:.4f}')\n",
    "\n",
    "        plt.plot(self.it_ls, self.train_losses, color=\"blue\", label=\"Training Loss\")\n",
    "        plt.plot(self.it_ls, self.val_losses, color=\"red\", label=\"Validation Loss\")\n",
    "        plt.xlabel(\"Iterations\")\n",
    "        plt.ylabel(\"MSE\")\n",
    "        plt.title(\"Training and Validation MSE\")\n",
    "        plt.legend()\n",
    "        plt.show()\n",
    "\n",
    "    def test_score(self, X_test, y_test, scaled=False):\n",
    "        with torch.no_grad():\n",
    "            if(not scaled):\n",
    "                X_test = self.scaleX(X_test)\n",
    "            outputs = self.forward(torch.from_numpy(X_test).to(torch.float32).to(device)).to('cpu').detach().numpy()\n",
    "            y_pred = self.unscaley(outputs)\n",
    "\n",
    "            print(f'MSE: {mean_squared_error(y_test, y_pred)}')\n",
    "            print(f'R2: {r2_score(y_test, y_pred)}')\n",
    "            print(f'MAE: {mean_absolute_error(y_test, y_pred)}')\n",
    "\n",
    "            return y_pred\n",
    "\n",
    "    def save_model(self, name):\n",
    "        time = dt.now().strftime(\"%y-%m-%d_%H-%M\")\n",
    "        f = f\"../trainedModels/{name}_{time}.pth\"\n",
    "        torch.save(self.state_dict(), f)"
   ]
  },
  {
   "cell_type": "markdown",
   "metadata": {},
   "source": [
    "# Training"
   ]
  },
  {
   "cell_type": "code",
   "execution_count": 4,
   "metadata": {},
   "outputs": [],
   "source": [
    "ws=24\n",
    "X, X_val, X_test, y, y_val, y_test = HYBRID.data_split(df=data, train_perc=90, test_perc=5, window_size=ws)\n",
    "\n",
    "model = HYBRID(num_features=X.shape[2], output_size=1, hidden_sizes=[32, 64, 64, 32, 8], num_layers=3, window_size=ws, k_size=[3,3], pad=[1,1])"
   ]
  },
  {
   "cell_type": "code",
   "execution_count": 5,
   "metadata": {},
   "outputs": [
    {
     "name": "stdout",
     "output_type": "stream",
     "text": [
      "epoch: 51/500, step 1/3, loss = 0.0110\n",
      "epoch: 101/500, step 2/3, loss = 0.0036\n",
      "epoch: 151/500, step 3/3, loss = 0.0025\n",
      "epoch: 202/500, step 1/3, loss = 0.0020\n",
      "epoch: 252/500, step 2/3, loss = 0.0016\n",
      "epoch: 302/500, step 3/3, loss = 0.0016\n",
      "epoch: 353/500, step 1/3, loss = 0.0015\n",
      "epoch: 403/500, step 2/3, loss = 0.0015\n",
      "epoch: 453/500, step 3/3, loss = 0.0014\n"
     ]
    }
   ],
   "source": [
    "model.fit(X_train=X, y_train=y, X_val=X_val, y_val=y_val, num_epochs=500, batch_num=3, lr=0.001)"
   ]
  },
  {
   "cell_type": "code",
   "execution_count": 6,
   "metadata": {},
   "outputs": [
    {
     "name": "stdout",
     "output_type": "stream",
     "text": [
      "Training Loss: 0.0013\n",
      "Validation Loss: 0.0007\n"
     ]
    },
    {
     "data": {
      "image/png": "[encoded data removed]",
      "text/plain": [
       "<Figure size 640x480 with 1 Axes>"
      ]
     },
     "metadata": {},
     "output_type": "display_data"
    },
    {
     "name": "stdout",
     "output_type": "stream",
     "text": [
      "MSE: 20748.005162653826\n",
      "R2: 0.993102575718079\n",
      "MAE: 110.59438545555713\n"
     ]
    }
   ],
   "source": [
    "model.eval()\n",
    "model.train_score()\n",
    "y_pred = model.test_score(X_test=X_val, y_test=y_val, scaled=True)"
   ]
  },
  {
   "cell_type": "code",
   "execution_count": 9,
   "metadata": {},
   "outputs": [
    {
     "data": {
      "text/plain": [
       "<matplotlib.collections.PathCollection at 0x29961afae90>"
      ]
     },
     "execution_count": 9,
     "metadata": {},
     "output_type": "execute_result"
    },
    {
     "data": {
      "image/png": "[encoded data removed]",
      "text/plain": [
       "<Figure size 640x480 with 1 Axes>"
      ]
     },
     "metadata": {},
     "output_type": "display_data"
    }
   ],
   "source": [
    "s=800\n",
    "l =20\n",
    "ind = np.zeros(l)\n",
    "for i in range(l):\n",
    "    ind[i] = i\n",
    "plt.scatter(ind, y_pred[s:s+l],color=\"red\")\n",
    "plt.scatter(ind, y_val[s:s+l])"
   ]
  },
  {
   "cell_type": "code",
   "execution_count": 10,
   "metadata": {},
   "outputs": [],
   "source": [
    "model.save_model(f\"../../trainedModels/Hybrid_c64-c128-lstm3x150-l32-l8\")"
   ]
  },
  {
   "cell_type": "markdown",
   "metadata": {},
   "source": [
    "# Testing"
   ]
  },
  {
   "cell_type": "code",
   "execution_count": 12,
   "metadata": {},
   "outputs": [
    {
     "data": {
      "text/plain": [
       "HYBRID(\n",
       "  (conv1): Conv1d(24, 32, kernel_size=(3,), stride=(1,), padding=(1,))\n",
       "  (conv2): Conv1d(32, 64, kernel_size=(3,), stride=(1,), padding=(1,))\n",
       "  (relu): ReLU()\n",
       "  (gru): GRU(8, 64, num_layers=3, batch_first=True)\n",
       "  (fc1): Linear(in_features=64, out_features=32, bias=True)\n",
       "  (fc2): Linear(in_features=32, out_features=8, bias=True)\n",
       "  (fc3): Linear(in_features=8, out_features=1, bias=True)\n",
       ")"
      ]
     },
     "execution_count": 12,
     "metadata": {},
     "output_type": "execute_result"
    }
   ],
   "source": [
    "ws=24\n",
    "X, X_val, X_test, y, y_val, y_test = HYBRID.data_split(df=data, train_perc=90, test_perc=5, window_size=ws)\n",
    "loaded_model = HYBRID(num_features=X.shape[2], output_size=1, hidden_sizes=[32, 64, 64, 32, 8], num_layers=3, window_size=ws, k_size=[3,3], pad=[1,1])\n",
    "\n",
    "f=\"../../trainedModels/Hybrid_c64-c128-lstm3x150-l32-l8_24-03-17_18-48.pth\"\n",
    "loaded_model.load_state_dict(torch.load(f))\n",
    "loaded_model.eval()"
   ]
  },
  {
   "cell_type": "code",
   "execution_count": 13,
   "metadata": {},
   "outputs": [
    {
     "name": "stdout",
     "output_type": "stream",
     "text": [
      "MSE: 49080.535439800566\n",
      "R2: 0.9971661875883254\n",
      "MAE: 156.00593889188218\n"
     ]
    }
   ],
   "source": [
    "loaded_model.getScale(X)\n",
    "y_pred = loaded_model.test_score(X_test=X_test, y_test=y_test, scaled=False)"
   ]
  }
 ],
 "metadata": {
  "kernelspec": {
   "display_name": "Python 3",
   "language": "python",
   "name": "python3"
  },
  "language_info": {
   "codemirror_mode": {
    "name": "ipython",
    "version": 3
   },
   "file_extension": ".py",
   "mimetype": "text/x-python",
   "name": "python",
   "nbconvert_exporter": "python",
   "pygments_lexer": "ipython3",
   "version": "3.10.1"
  }
 },
 "nbformat": 4,
 "nbformat_minor": 2
}
