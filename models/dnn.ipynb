{
 "cells": [
  {
   "cell_type": "markdown",
   "metadata": {},
   "source": [
    "Philippe Joly MAIS 202\n",
    "\n",
    "This is an implementation of a Deep Neural Network (DNN) to predict Electrical Power Demand based on the Weather in Quebec"
   ]
  },
  {
   "cell_type": "code",
   "execution_count": 22,
   "metadata": {},
   "outputs": [],
   "source": [
    "import torch\n",
    "import torch.nn as nn\n",
    "from sklearn.metrics import mean_squared_error, r2_score, mean_absolute_error\n",
    "from sklearn.preprocessing import StandardScaler\n",
    "from sklearn.model_selection import train_test_split\n",
    "import numpy as np\n",
    "import matplotlib.pyplot as plt\n",
    "import pandas as pd\n",
    "from datetime import datetime as dt\n",
    "import os\n",
    "from dotenv import load_dotenv\n",
    "load_dotenv()\n",
    "\n",
    "device = torch.device('cuda' if torch.cuda.is_available() else 'cpu')"
   ]
  },
  {
   "cell_type": "markdown",
   "metadata": {},
   "source": [
    "# DATA"
   ]
  },
  {
   "cell_type": "code",
   "execution_count": 23,
   "metadata": {},
   "outputs": [],
   "source": [
    "data = pd.read_csv(os.getenv(\"DATA\"))\n",
    "# data['Date/Time (UTC)'] = pd.to_datetime(data['Date/Time (UTC)'])\n",
    "data.dropna(inplace=True)\n",
    "data.drop(columns=['Date/Time (UTC)','Year'], inplace=True)\n",
    "data = data.astype(float)\n",
    "\n",
    "X_tot = data.drop(columns=[\"Average Power Output (MW)\"]).values\n",
    "y_tot = data[\"Average Power Output (MW)\"].values\n",
    "\n",
    "X, X_test, y, y_test = train_test_split(X_tot, y_tot, test_size=0.1, random_state=45)\n",
    "\n",
    "X_val, X_test, y_val, y_test = train_test_split(X_test, y_test, test_size=0.5, random_state=45)"
   ]
  },
  {
   "cell_type": "code",
   "execution_count": 24,
   "metadata": {},
   "outputs": [
    {
     "name": "stdout",
     "output_type": "stream",
     "text": [
      "Training set size: 31514\n",
      "Validation set size: 1751\n",
      "Test set size: 1751\n",
      "Number of Features: 6\n",
      "['Temp (°C)' 'Month' 'Day' 'Hour' 'Day of Week' 'Population']\n"
     ]
    }
   ],
   "source": [
    "print(f'Training set size: {X.shape[0]}')\n",
    "print(f'Validation set size: {X_test.shape[0]}')\n",
    "print(f'Test set size: {X_test.shape[0]}')\n",
    "print(f'Number of Features: {X.shape[1]}')\n",
    "print(data.drop(columns=[\"Average Power Output (MW)\"]).keys().values)"
   ]
  },
  {
   "cell_type": "code",
   "execution_count": 25,
   "metadata": {},
   "outputs": [
    {
     "data": {
      "image/png": "[encoded data removed]",
      "text/plain": [
       "<Figure size 640x480 with 1 Axes>"
      ]
     },
     "metadata": {},
     "output_type": "display_data"
    }
   ],
   "source": [
    "plt.hist(y, bins=100, edgecolor='black')\n",
    "mean = np.mean(y)\n",
    "std = np.std(y)\n",
    "\n",
    "# Add mean and std to the plot\n",
    "plt.axvline(mean, color='red', linestyle='dashed', linewidth=1, label=f'Mean = {mean:.2f}')\n",
    "plt.axvline(mean - std, color='green', linestyle='dashed', linewidth=1, label=f'Std = {std:.2f}')\n",
    "plt.axvline(mean + std, color='green', linestyle='dashed', linewidth=1)\n",
    "\n",
    "plt.legend()\n",
    "plt.show()"
   ]
  },
  {
   "cell_type": "markdown",
   "metadata": {},
   "source": [
    "# MODEL"
   ]
  },
  {
   "cell_type": "code",
   "execution_count": 26,
   "metadata": {},
   "outputs": [],
   "source": [
    "class neuralNet(nn.Module):\n",
    "    def __init__(self, n_features, n_outs, hidden_size):\n",
    "        super(neuralNet, self).__init__()\n",
    "        self.to(device)\n",
    "\n",
    "        self.l1 = nn.Linear(n_features, hidden_size)\n",
    "        self.l2 = nn.Linear(hidden_size, hidden_size)\n",
    "        self.l3 = nn.Linear(hidden_size, hidden_size)\n",
    "        self.l4 = nn.Linear(hidden_size, hidden_size)\n",
    "        self.l5 = nn.Linear(hidden_size, hidden_size)\n",
    "        self.l6 = nn.Linear(hidden_size, hidden_size)\n",
    "        self.l7 = nn.Linear(hidden_size, n_outs)\n",
    "        self.relu = nn.ReLU()\n",
    "\n",
    "    def forward(self, X):\n",
    "        out = self.l1(X)\n",
    "        out = self.relu(out)\n",
    "        out = self.l2(out)\n",
    "        out = self.relu(out)\n",
    "        out = self.l3(out)\n",
    "        out = self.relu(out)\n",
    "        out = self.l4(out)\n",
    "        out = self.relu(out)\n",
    "        out = self.l5(out)\n",
    "        out = self.relu(out)\n",
    "        out = self.l6(out)\n",
    "        out = self.relu(out)\n",
    "        out = self.l7(out)\n",
    "        return out\n",
    "    \n",
    "    def getScale(self,X,y):\n",
    "        y = y.reshape(len(y), 1)\n",
    "\n",
    "        self.x_scaler = StandardScaler().fit(X)\n",
    "        self.y_scaler = StandardScaler().fit(y)\n",
    "\n",
    "    def scaleX(self, X):\n",
    "        return self.x_scaler.transform(X)\n",
    "    \n",
    "    def scaley(self, y):\n",
    "        return self.y_scaler.transform(y.reshape(len(y),1))\n",
    "    \n",
    "    def unscaley(self,y):\n",
    "        return self.y_scaler.inverse_transform(y).reshape(y.shape[0])\n",
    "\n",
    "    def fit(self, X_train, y_train, X_val, y_val, num_epochs,batch_size, lr):\n",
    "        criterion = nn.MSELoss()\n",
    "        optimizer = torch.optim.Adam(self.parameters(), lr=lr)\n",
    "\n",
    "        self.train_losses = []\n",
    "        self.val_losses = []\n",
    "        self.it_ls = []\n",
    "\n",
    "        self.getScale(X_train,y_train)\n",
    "        X_train = torch.from_numpy(self.scaleX(X_train))\n",
    "        y_train = torch.from_numpy(self.scaley(y_train))\n",
    "\n",
    "        X_val = torch.from_numpy(self.scaleX(X_val)).to(torch.float32).to(device)\n",
    "        y_val = torch.from_numpy(self.scaley(y_val)).to(torch.float32).to(device)\n",
    "\n",
    "        train_load = torch.utils.data.TensorDataset(X_train,y_train)\n",
    "        train_load = torch.utils.data.DataLoader(dataset=train_load, batch_size=batch_size, shuffle=True)\n",
    "\n",
    "        for epoch in range(num_epochs):\n",
    "            for i, (X, y) in enumerate(train_load):\n",
    "                self.it_ls.append(epoch*len(train_load)+i)\n",
    "                X= X.to(torch.float32).to(device)\n",
    "                y = y.to(torch.float32).to(device)\n",
    "                \n",
    "                outputs = self.forward(X)\n",
    "                loss = criterion(outputs, y)\n",
    "                self.train_losses.append(loss.item())\n",
    "\n",
    "                with torch.no_grad():\n",
    "                    val_outputs=self.forward(X_val)\n",
    "                    self.val_losses.append(criterion(val_outputs, y_val).item())\n",
    "\n",
    "                optimizer.zero_grad()\n",
    "                loss.backward()\n",
    "                optimizer.step()\n",
    "\n",
    "                if(epoch*len(train_load)+i+1)%(num_epochs*len(train_load)//10)==0:\n",
    "                    print(f'epoch: {epoch+1}/{num_epochs}, step {i+1}/{len(train_load)}, loss = {loss.item():.4f}')\n",
    "    \n",
    "    def train_score(self):\n",
    "        print(f'Training Loss: {self.train_losses[-1]:.4f}')\n",
    "        print(f'Validation Loss: {self.val_losses[-1]:.4f}')\n",
    "\n",
    "        plt.plot(self.it_ls, self.train_losses, color=\"blue\", label=\"Training Loss\")\n",
    "        plt.plot(self.it_ls, self.val_losses, color=\"red\", label=\"Validation Loss\")\n",
    "        plt.xlabel(\"Iterations\")\n",
    "        plt.ylabel(\"MSE\")\n",
    "        plt.title(\"Training and Validation MSE\")\n",
    "        plt.legend()\n",
    "        plt.show()\n",
    "\n",
    "    def test_score(self, X_test, y_test):\n",
    "        with torch.no_grad():\n",
    "            X_test = self.scaleX(X_test)\n",
    "            outputs = self.forward(torch.from_numpy(X_test).to(torch.float32).to(device)).to('cpu').detach().numpy()\n",
    "            y_pred = self.unscaley(outputs)\n",
    "\n",
    "            print(f'MSE: {mean_squared_error(y_test, y_pred)}')\n",
    "            print(f'R2: {r2_score(y_test, y_pred)}')\n",
    "            print(f'MAE: {mean_absolute_error(y_test, y_pred)}')\n",
    "\n",
    "    def save_model(self, name):\n",
    "        time = dt.now().strftime(\"%y-%m-%d_%H-%M\")\n",
    "        f = f\"../trainedModels/{name}_{time}.pth\"\n",
    "        torch.save(self.state_dict(), f)"
   ]
  },
  {
   "cell_type": "markdown",
   "metadata": {},
   "source": [
    "# Training & Testing"
   ]
  },
  {
   "cell_type": "code",
   "execution_count": 27,
   "metadata": {},
   "outputs": [],
   "source": [
    "model = neuralNet(n_features=X.shape[1], n_outs=1,hidden_sizes=10)"
   ]
  },
  {
   "cell_type": "code",
   "execution_count": 28,
   "metadata": {},
   "outputs": [
    {
     "name": "stdout",
     "output_type": "stream",
     "text": [
      "epoch: 200/2000, step 2/2, loss = 0.0481\n",
      "epoch: 400/2000, step 2/2, loss = 0.0409\n",
      "epoch: 600/2000, step 2/2, loss = 0.0398\n",
      "epoch: 800/2000, step 2/2, loss = 0.0372\n",
      "epoch: 1000/2000, step 2/2, loss = 0.0336\n",
      "epoch: 1200/2000, step 2/2, loss = 0.0316\n",
      "epoch: 1400/2000, step 2/2, loss = 0.0307\n",
      "epoch: 1600/2000, step 2/2, loss = 0.0347\n",
      "epoch: 1800/2000, step 2/2, loss = 0.0286\n",
      "epoch: 2000/2000, step 2/2, loss = 0.0276\n"
     ]
    }
   ],
   "source": [
    "model.fit(X_train=X, y_train=y, X_val=X_val, y_val=y_val, num_epochs=2000, batch_size=(X.shape[0]//2), lr=0.01)"
   ]
  },
  {
   "cell_type": "code",
   "execution_count": 29,
   "metadata": {},
   "outputs": [
    {
     "name": "stdout",
     "output_type": "stream",
     "text": [
      "Training Loss: 0.0276\n",
      "Validation Loss: 0.0290\n"
     ]
    },
    {
     "data": {
      "image/png": "[encoded data removed]",
      "text/plain": [
       "<Figure size 640x480 with 1 Axes>"
      ]
     },
     "metadata": {},
     "output_type": "display_data"
    },
    {
     "name": "stdout",
     "output_type": "stream",
     "text": [
      "MSE: 778559.7034305162\n",
      "R2: 0.9714917719845636\n",
      "MAE: 656.7565044751213\n"
     ]
    }
   ],
   "source": [
    "model.eval()\n",
    "model.train_score()\n",
    "model.test_score(X_test=X_val, y_test=y_val)"
   ]
  },
  {
   "cell_type": "code",
   "execution_count": 30,
   "metadata": {},
   "outputs": [],
   "source": [
    "model.save_model(f\"../../trainedModels/dnn_5x5hid_relu_\")"
   ]
  },
  {
   "cell_type": "markdown",
   "metadata": {},
   "source": [
    "# Testing"
   ]
  },
  {
   "cell_type": "code",
   "execution_count": 34,
   "metadata": {},
   "outputs": [
    {
     "data": {
      "text/plain": [
       "neuralNet(\n",
       "  (l1): Linear(in_features=6, out_features=10, bias=True)\n",
       "  (l2): Linear(in_features=10, out_features=10, bias=True)\n",
       "  (l3): Linear(in_features=10, out_features=10, bias=True)\n",
       "  (l4): Linear(in_features=10, out_features=10, bias=True)\n",
       "  (l5): Linear(in_features=10, out_features=10, bias=True)\n",
       "  (l6): Linear(in_features=10, out_features=10, bias=True)\n",
       "  (l7): Linear(in_features=10, out_features=1, bias=True)\n",
       "  (relu): ReLU()\n",
       ")"
      ]
     },
     "execution_count": 34,
     "metadata": {},
     "output_type": "execute_result"
    }
   ],
   "source": [
    "f=\"../../trainedModels/dnn_5x5hid_relu__24-03-17_13-35.pth\"\n",
    "loaded_model = neuralNet(n_features=X.shape[1], n_outs=1,hidden_size=10)\n",
    "loaded_model.load_state_dict(torch.load(f))\n",
    "loaded_model.eval()"
   ]
  },
  {
   "cell_type": "code",
   "execution_count": 35,
   "metadata": {},
   "outputs": [],
   "source": [
    "X, X_test, y, y_test = train_test_split(X_tot, y_tot, test_size=0.1, random_state=45)\n",
    "X_val, X_test, y_val, y_test = train_test_split(X_test, y_test, test_size=0.5, random_state=45)\n",
    "\n",
    "loaded_model.getScale(X, y)"
   ]
  },
  {
   "cell_type": "code",
   "execution_count": 36,
   "metadata": {},
   "outputs": [
    {
     "name": "stdout",
     "output_type": "stream",
     "text": [
      "MSE: 807862.922924085\n",
      "R2: 0.9705088964921949\n",
      "MAE: 672.9456143141418\n"
     ]
    }
   ],
   "source": [
    "loaded_model.test_score(X_test=X_test, y_test=y_test)"
   ]
  }
 ],
 "metadata": {
  "kernelspec": {
   "display_name": "Python 3",
   "language": "python",
   "name": "python3"
  },
  "language_info": {
   "codemirror_mode": {
    "name": "ipython",
    "version": 3
   },
   "file_extension": ".py",
   "mimetype": "text/x-python",
   "name": "python",
   "nbconvert_exporter": "python",
   "pygments_lexer": "ipython3",
   "version": "3.10.1"
  }
 },
 "nbformat": 4,
 "nbformat_minor": 2
}
