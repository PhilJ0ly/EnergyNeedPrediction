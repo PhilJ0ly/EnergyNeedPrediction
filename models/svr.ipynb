{
 "cells": [
  {
   "cell_type": "markdown",
   "metadata": {},
   "source": [
    "Philippe Joly\n",
    "MAIS 202\n",
    "\n",
    "This is an implementation of Support Vector Regression (SVR) on Electrical Power Output based on the Weather in Quebec"
   ]
  },
  {
   "cell_type": "code",
   "execution_count": 1,
   "metadata": {},
   "outputs": [
    {
     "data": {
      "text/plain": [
       "True"
      ]
     },
     "execution_count": 1,
     "metadata": {},
     "output_type": "execute_result"
    }
   ],
   "source": [
    "from sklearn.svm import SVR\n",
    "from sklearn.metrics import mean_squared_error, r2_score, mean_absolute_error\n",
    "from skopt import BayesSearchCV\n",
    "from sklearn.preprocessing import StandardScaler\n",
    "from sklearn.model_selection import train_test_split\n",
    "import numpy as np\n",
    "import matplotlib.pyplot as plt\n",
    "import pandas as pd\n",
    "from datetime import datetime as dt\n",
    "import pickle\n",
    "import os\n",
    "from dotenv import load_dotenv\n",
    "load_dotenv()"
   ]
  },
  {
   "cell_type": "markdown",
   "metadata": {},
   "source": [
    "# Data"
   ]
  },
  {
   "cell_type": "code",
   "execution_count": 2,
   "metadata": {},
   "outputs": [],
   "source": [
    "data = pd.read_csv(os.getenv(\"DATA\"))\n",
    "data['Date/Time (UTC)'] = pd.to_datetime(data['Date/Time (UTC)'])\n",
    "data.dropna(inplace=True)\n",
    "data.drop(columns=['Date/Time (UTC)','Year'], inplace=True)\n",
    "\n",
    "X_tot = data.drop(columns=[\"Average Power Output (MW)\"]).values\n",
    "y_tot = data[\"Average Power Output (MW)\"].values\n",
    "\n",
    "X, X_test, y, y_test = train_test_split(X_tot, y_tot, test_size=0.1, random_state=45)"
   ]
  },
  {
   "cell_type": "code",
   "execution_count": 44,
   "metadata": {},
   "outputs": [
    {
     "name": "stdout",
     "output_type": "stream",
     "text": [
      "Training set size: 31514\n",
      "Test set size: 3502\n",
      "Number of Features: 6\n",
      "['Temp (°C)' 'Month' 'Day' 'Hour' 'Day of Week' 'Population']\n"
     ]
    }
   ],
   "source": [
    "print(f'Training set size: {X.shape[0]}')\n",
    "print(f'Test set size: {X_test.shape[0]}')\n",
    "print(f'Number of Features: {X.shape[1]}')\n",
    "print(data.drop(columns=[\"Average Power Output (MW)\"]).keys().values)"
   ]
  },
  {
   "cell_type": "code",
   "execution_count": 3,
   "metadata": {},
   "outputs": [],
   "source": [
    "y = y.reshape(len(y), 1)\n",
    "# y_test = y_test.reshape(len(y_test), 1)\n",
    "\n",
    "x_scaler = StandardScaler().fit(X)\n",
    "y_scaler = StandardScaler().fit(y)\n",
    "\n",
    "# with open('Xscaler.pkl','wb') as f:\n",
    "#     pickle.dump(x_scaler, f)\n",
    "# with open('yscaler.pkl','wb') as f:\n",
    "#     pickle.dump(y_scaler, f)\n",
    "\n",
    "X = x_scaler.transform(X)\n",
    "y = y_scaler.transform(y)\n",
    "\n",
    "X_test = x_scaler.transform(X_test)\n",
    "# y_test = y_scaler.transform(y_test)\n",
    "\n",
    "y = y.reshape(y.shape[0])\n",
    "# y_test = y_test.reshape(y_test.shape[0])"
   ]
  },
  {
   "cell_type": "markdown",
   "metadata": {},
   "source": [
    "# Hyper-Parameter Tuning"
   ]
  },
  {
   "cell_type": "code",
   "execution_count": 5,
   "metadata": {},
   "outputs": [],
   "source": [
    "svr = SVR()"
   ]
  },
  {
   "cell_type": "code",
   "execution_count": 6,
   "metadata": {},
   "outputs": [],
   "source": [
    "opt_params=[{\n",
    "    'C': np.logspace(-4,4,10),\n",
    "    'gamma': np.logspace(-6,1,10),\n",
    "    'epsilon': [0.01, 0.1, 0.2, 0.5],\n",
    "    'kernel': ['rbf'],\n",
    "    'max_iter':[2000]\n",
    "}]"
   ]
  },
  {
   "cell_type": "code",
   "execution_count": null,
   "metadata": {},
   "outputs": [],
   "source": [
    "clf = BayesSearchCV(svr, search_spaces=opt_params, cv=3, verbose=False, n_jobs=-1, n_iter=200)\n",
    "best_clf = clf.fit(X,y)"
   ]
  },
  {
   "cell_type": "code",
   "execution_count": 25,
   "metadata": {},
   "outputs": [],
   "source": [
    "results = pd.DataFrame(best_clf.cv_results_).sort_values(by=\"rank_test_score\", ascending=True)"
   ]
  },
  {
   "cell_type": "code",
   "execution_count": 26,
   "metadata": {},
   "outputs": [
    {
     "data": {
      "text/html": [
       "<div>\n",
       "<style scoped>\n",
       "    .dataframe tbody tr th:only-of-type {\n",
       "        vertical-align: middle;\n",
       "    }\n",
       "\n",
       "    .dataframe tbody tr th {\n",
       "        vertical-align: top;\n",
       "    }\n",
       "\n",
       "    .dataframe thead th {\n",
       "        text-align: right;\n",
       "    }\n",
       "</style>\n",
       "<table border=\"1\" class=\"dataframe\">\n",
       "  <thead>\n",
       "    <tr style=\"text-align: right;\">\n",
       "      <th></th>\n",
       "      <th>mean_fit_time</th>\n",
       "      <th>std_fit_time</th>\n",
       "      <th>mean_score_time</th>\n",
       "      <th>std_score_time</th>\n",
       "      <th>param_C</th>\n",
       "      <th>param_epsilon</th>\n",
       "      <th>param_gamma</th>\n",
       "      <th>param_kernel</th>\n",
       "      <th>param_max_iter</th>\n",
       "      <th>params</th>\n",
       "      <th>split0_test_score</th>\n",
       "      <th>split1_test_score</th>\n",
       "      <th>split2_test_score</th>\n",
       "      <th>mean_test_score</th>\n",
       "      <th>std_test_score</th>\n",
       "      <th>rank_test_score</th>\n",
       "    </tr>\n",
       "  </thead>\n",
       "  <tbody>\n",
       "    <tr>\n",
       "      <th>183</th>\n",
       "      <td>3.250043</td>\n",
       "      <td>0.025728</td>\n",
       "      <td>4.332995</td>\n",
       "      <td>0.027071</td>\n",
       "      <td>2.782559</td>\n",
       "      <td>0.01</td>\n",
       "      <td>1.668101</td>\n",
       "      <td>rbf</td>\n",
       "      <td>2000</td>\n",
       "      <td>{'C': 2.782559402207126, 'epsilon': 0.01, 'gam...</td>\n",
       "      <td>0.98184</td>\n",
       "      <td>0.981411</td>\n",
       "      <td>0.98131</td>\n",
       "      <td>0.98152</td>\n",
       "      <td>0.00023</td>\n",
       "      <td>1</td>\n",
       "    </tr>\n",
       "    <tr>\n",
       "      <th>180</th>\n",
       "      <td>3.396229</td>\n",
       "      <td>0.063735</td>\n",
       "      <td>4.034710</td>\n",
       "      <td>0.058293</td>\n",
       "      <td>2.782559</td>\n",
       "      <td>0.01</td>\n",
       "      <td>1.668101</td>\n",
       "      <td>rbf</td>\n",
       "      <td>2000</td>\n",
       "      <td>{'C': 2.782559402207126, 'epsilon': 0.01, 'gam...</td>\n",
       "      <td>0.98184</td>\n",
       "      <td>0.981411</td>\n",
       "      <td>0.98131</td>\n",
       "      <td>0.98152</td>\n",
       "      <td>0.00023</td>\n",
       "      <td>1</td>\n",
       "    </tr>\n",
       "    <tr>\n",
       "      <th>181</th>\n",
       "      <td>3.159868</td>\n",
       "      <td>0.029137</td>\n",
       "      <td>3.495040</td>\n",
       "      <td>0.062871</td>\n",
       "      <td>2.782559</td>\n",
       "      <td>0.01</td>\n",
       "      <td>1.668101</td>\n",
       "      <td>rbf</td>\n",
       "      <td>2000</td>\n",
       "      <td>{'C': 2.782559402207126, 'epsilon': 0.01, 'gam...</td>\n",
       "      <td>0.98184</td>\n",
       "      <td>0.981411</td>\n",
       "      <td>0.98131</td>\n",
       "      <td>0.98152</td>\n",
       "      <td>0.00023</td>\n",
       "      <td>1</td>\n",
       "    </tr>\n",
       "    <tr>\n",
       "      <th>147</th>\n",
       "      <td>3.211711</td>\n",
       "      <td>0.040855</td>\n",
       "      <td>3.784475</td>\n",
       "      <td>0.074041</td>\n",
       "      <td>2.782559</td>\n",
       "      <td>0.01</td>\n",
       "      <td>1.668101</td>\n",
       "      <td>rbf</td>\n",
       "      <td>2000</td>\n",
       "      <td>{'C': 2.782559402207126, 'epsilon': 0.01, 'gam...</td>\n",
       "      <td>0.98184</td>\n",
       "      <td>0.981411</td>\n",
       "      <td>0.98131</td>\n",
       "      <td>0.98152</td>\n",
       "      <td>0.00023</td>\n",
       "      <td>1</td>\n",
       "    </tr>\n",
       "    <tr>\n",
       "      <th>143</th>\n",
       "      <td>3.413598</td>\n",
       "      <td>0.053275</td>\n",
       "      <td>3.522860</td>\n",
       "      <td>0.025178</td>\n",
       "      <td>2.782559</td>\n",
       "      <td>0.01</td>\n",
       "      <td>1.668101</td>\n",
       "      <td>rbf</td>\n",
       "      <td>2000</td>\n",
       "      <td>{'C': 2.782559402207126, 'epsilon': 0.01, 'gam...</td>\n",
       "      <td>0.98184</td>\n",
       "      <td>0.981411</td>\n",
       "      <td>0.98131</td>\n",
       "      <td>0.98152</td>\n",
       "      <td>0.00023</td>\n",
       "      <td>1</td>\n",
       "    </tr>\n",
       "  </tbody>\n",
       "</table>\n",
       "</div>"
      ],
      "text/plain": [
       "     mean_fit_time  std_fit_time  mean_score_time  std_score_time   param_C  \\\n",
       "183       3.250043      0.025728         4.332995        0.027071  2.782559   \n",
       "180       3.396229      0.063735         4.034710        0.058293  2.782559   \n",
       "181       3.159868      0.029137         3.495040        0.062871  2.782559   \n",
       "147       3.211711      0.040855         3.784475        0.074041  2.782559   \n",
       "143       3.413598      0.053275         3.522860        0.025178  2.782559   \n",
       "\n",
       "    param_epsilon param_gamma param_kernel param_max_iter  \\\n",
       "183          0.01    1.668101          rbf           2000   \n",
       "180          0.01    1.668101          rbf           2000   \n",
       "181          0.01    1.668101          rbf           2000   \n",
       "147          0.01    1.668101          rbf           2000   \n",
       "143          0.01    1.668101          rbf           2000   \n",
       "\n",
       "                                                params  split0_test_score  \\\n",
       "183  {'C': 2.782559402207126, 'epsilon': 0.01, 'gam...            0.98184   \n",
       "180  {'C': 2.782559402207126, 'epsilon': 0.01, 'gam...            0.98184   \n",
       "181  {'C': 2.782559402207126, 'epsilon': 0.01, 'gam...            0.98184   \n",
       "147  {'C': 2.782559402207126, 'epsilon': 0.01, 'gam...            0.98184   \n",
       "143  {'C': 2.782559402207126, 'epsilon': 0.01, 'gam...            0.98184   \n",
       "\n",
       "     split1_test_score  split2_test_score  mean_test_score  std_test_score  \\\n",
       "183           0.981411            0.98131          0.98152         0.00023   \n",
       "180           0.981411            0.98131          0.98152         0.00023   \n",
       "181           0.981411            0.98131          0.98152         0.00023   \n",
       "147           0.981411            0.98131          0.98152         0.00023   \n",
       "143           0.981411            0.98131          0.98152         0.00023   \n",
       "\n",
       "     rank_test_score  \n",
       "183                1  \n",
       "180                1  \n",
       "181                1  \n",
       "147                1  \n",
       "143                1  "
      ]
     },
     "execution_count": 26,
     "metadata": {},
     "output_type": "execute_result"
    }
   ],
   "source": [
    "results.head()"
   ]
  },
  {
   "cell_type": "code",
   "execution_count": 10,
   "metadata": {},
   "outputs": [
    {
     "data": {
      "text/plain": [
       "0.9815202764457135"
      ]
     },
     "execution_count": 10,
     "metadata": {},
     "output_type": "execute_result"
    }
   ],
   "source": [
    "best_clf.best_score_"
   ]
  },
  {
   "cell_type": "code",
   "execution_count": 55,
   "metadata": {},
   "outputs": [
    {
     "name": "stdout",
     "output_type": "stream",
     "text": [
      "MSE: 503623.5687257564\n",
      "R2: 0.9815888556826949\n",
      "MAE: 568.1827592223525\n"
     ]
    }
   ],
   "source": [
    "best_model = best_clf.best_estimator_\n",
    "\n",
    "y_pred = best_model.predict(X_test)\n",
    "y_pred = y_scaler.inverse_transform(y_pred.reshape(len(y_test), 1)).reshape(y_pred.shape[0])\n",
    "\n",
    "print(f'MSE: {mean_squared_error(y_test, y_pred)}')\n",
    "print(f'R2: {r2_score(y_test, y_pred)}')\n",
    "print(f'MAE: {mean_absolute_error(y_test, y_pred)}')"
   ]
  },
  {
   "cell_type": "code",
   "execution_count": 71,
   "metadata": {},
   "outputs": [
    {
     "data": {
      "text/plain": [
       "<matplotlib.collections.PathCollection at 0x29f3ded5810>"
      ]
     },
     "execution_count": 71,
     "metadata": {},
     "output_type": "execute_result"
    },
    {
     "data": {
      "image/png": "[encoded data removed]",
      "text/plain": [
       "<Figure size 640x480 with 1 Axes>"
      ]
     },
     "metadata": {},
     "output_type": "display_data"
    }
   ],
   "source": [
    "\n",
    "s=2500\n",
    "l =75\n",
    "ind = np.zeros(l)\n",
    "for i in range(l):\n",
    "    ind[i] = i\n",
    "plt.scatter(ind, y_pred[s:s+l],color=\"red\")\n",
    "plt.scatter(ind, y_test[s:s+l])"
   ]
  },
  {
   "cell_type": "code",
   "execution_count": 72,
   "metadata": {},
   "outputs": [],
   "source": [
    "f = \"../trainedModels/svr_bayes_rbf\"\n",
    "pickle.dump(best_model, open(f, \"wb\"))"
   ]
  }
 ],
 "metadata": {
  "kernelspec": {
   "display_name": "Python 3",
   "language": "python",
   "name": "python3"
  },
  "language_info": {
   "codemirror_mode": {
    "name": "ipython",
    "version": 3
   },
   "file_extension": ".py",
   "mimetype": "text/x-python",
   "name": "python",
   "nbconvert_exporter": "python",
   "pygments_lexer": "ipython3",
   "version": "3.10.1"
  }
 },
 "nbformat": 4,
 "nbformat_minor": 2
}
